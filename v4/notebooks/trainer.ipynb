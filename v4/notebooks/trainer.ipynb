{
 "cells": [
  {
   "cell_type": "markdown",
   "id": "e9e9279e-55b6-407d-a439-8a7c007974c3",
   "metadata": {},
   "source": [
    "# Deep Hedging AI\n",
    "### Vanilla Deep Hedging engine reference implementation with dynamic training update.\n",
    "\n",
    "This is the main example notebook. It shows learning to hedge a vanilla call option (ATM by default), first in a Black & Scholes world with statistical drift, and secondly in a world where a second option can be traded.\n",
    "The examples are not intended to be overly realistic.\n",
    "\n",
    "In the Black & Scholes case we see that the hedge learned is _not_ the risk-neutral hedge. The notebook <tt>trainer-bs_nodrift.ipynb</tt> demonstrates that if the statistical drift is zero, and step size is sufficiently small (daily), then the Deep Hedging hedge approximates the risk-neutral hedge.\n",
    "\n",
    "### Hans Buehler, June 30 2022\n"
   ]
  },
  {
   "cell_type": "code",
   "execution_count": 1,
   "id": "2d4e96d5-7016-4d65-97f6-e95f21df85b0",
   "metadata": {},
   "outputs": [],
   "source": [
    "\"\"\" Slighly annoying: by default the SageMaker Python import directory does not include our git directory \"\"\"\n",
    "#!pip -q install cdxbasics \"tensorflow>=2.10\" \"tensorflow_probability>=0.14\"\n",
    "import os\n",
    "p = os.getcwd()\n",
    "dhn = \"/deephedging/\"\n",
    "i = p.find(dhn)\n",
    "if i!=-1:\n",
    "    p = p[:i]\n",
    "    import sys\n",
    "    if not p in sys.path:\n",
    "        sys.path.append(p)\n",
    "        print(\"Added python path %s\" % p)\n"
   ]
  },
  {
   "cell_type": "code",
   "execution_count": 2,
   "id": "861ef34b-392f-410d-9798-072ad8499019",
   "metadata": {},
   "outputs": [
    {
     "name": "stdout",
     "output_type": "stream",
     "text": [
      "Deep Hedging AI says hello ... "
     ]
    },
    {
     "data": {
      "text/markdown": [
       "## Deep Hedging in a Black \\& Scholes World"
      ],
      "text/plain": [
       "<IPython.core.display.Markdown object>"
      ]
     },
     "metadata": {},
     "output_type": "display_data"
    },
    {
     "name": "stdout",
     "output_type": "stream",
     "text": [
      "00: Initializing training for VanillaDeepHedging\n"
     ]
    },
    {
     "name": "stderr",
     "output_type": "stream",
     "text": [
      "ERROR:config.py:Error closing config 'kwargs_Recurrent_main.config': the following config arguments were not read: ['depth', 'activation']\n",
      "\n",
      "Summary of all variables read from this object:\n",
      "kwargs_Recurrent_main['actviation'] = None # Default: None\n",
      "kwargs_Recurrent_main['allow_no_features'] = True # Default: True\n",
      "kwargs_Recurrent_main['config'] = config.gym.agent{'network': {'depth': 3, 'activation': 'softplus', '_childen': {'_childen': {}}}, '_childen': {}} # Default: None\n",
      "kwargs_Recurrent_main['def_activation'] = relu # Default: relu\n",
      "kwargs_Recurrent_main['def_depth'] = 3 # Default: 3\n",
      "kwargs_Recurrent_main['def_features'] = ['price', 'time_left', 'delta'] # Default: []\n",
      "kwargs_Recurrent_main['def_final_act'] = linear # Default: linear\n",
      "kwargs_Recurrent_main['def_recurrence'] = 5 # Default: 5\n",
      "kwargs_Recurrent_main['def_regression'] = False # Default: False\n",
      "kwargs_Recurrent_main['def_width'] = 50 # Default: 50\n",
      "kwargs_Recurrent_main['def_zero_model'] = True # Default: True\n",
      "kwargs_Recurrent_main['depth'] = None # Default: None\n",
      "kwargs_Recurrent_main['dtype'] = float32 # Default: <dtype: 'float32'>\n",
      "kwargs_Recurrent_main['features'] = None # Default: None\n",
      "kwargs_Recurrent_main['final_act'] = None # Default: None\n",
      "kwargs_Recurrent_main['name'] = main_agent # Default: None\n",
      "kwargs_Recurrent_main['recurrence'] = None # Default: None\n",
      "kwargs_Recurrent_main['regression'] = None # Default: None\n",
      "kwargs_Recurrent_main['required_features'] = [] # Default: []\n",
      "kwargs_Recurrent_main['trainable'] = True # Default: True\n",
      "kwargs_Recurrent_main['width'] = None # Default: None\n",
      "kwargs_Recurrent_main['zero_model'] = None # Default: None\n",
      "\n"
     ]
    },
    {
     "name": "stdout",
     "output_type": "stream",
     "text": [
      "Error closing config 'kwargs_Recurrent_main.config': the following config arguments were not read: ['depth', 'activation']\n",
      "\n",
      "Summary of all variables read from this object:\n",
      "kwargs_Recurrent_main['actviation'] = None # Default: None\n",
      "kwargs_Recurrent_main['allow_no_features'] = True # Default: True\n",
      "kwargs_Recurrent_main['config'] = config.gym.agent{'network': {'depth': 3, 'activation': 'softplus', '_childen': {'_childen': {}}}, '_childen': {}} # Default: None\n",
      "kwargs_Recurrent_main['def_activation'] = relu # Default: relu\n",
      "kwargs_Recurrent_main['def_depth'] = 3 # Default: 3\n",
      "kwargs_Recurrent_main['def_features'] = ['price', 'time_left', 'delta'] # Default: []\n",
      "kwargs_Recurrent_main['def_final_act'] = linear # Default: linear\n",
      "kwargs_Recurrent_main['def_recurrence'] = 5 # Default: 5\n",
      "kwargs_Recurrent_main['def_regression'] = False # Default: False\n",
      "kwargs_Recurrent_main['def_width'] = 50 # Default: 50\n",
      "kwargs_Recurrent_main['def_zero_model'] = True # Default: True\n",
      "kwargs_Recurrent_main['depth'] = None # Default: None\n",
      "kwargs_Recurrent_main['dtype'] = float32 # Default: <dtype: 'float32'>\n",
      "kwargs_Recurrent_main['features'] = None # Default: None\n",
      "kwargs_Recurrent_main['final_act'] = None # Default: None\n",
      "kwargs_Recurrent_main['name'] = main_agent # Default: None\n",
      "kwargs_Recurrent_main['recurrence'] = None # Default: None\n",
      "kwargs_Recurrent_main['regression'] = None # Default: None\n",
      "kwargs_Recurrent_main['required_features'] = [] # Default: []\n",
      "kwargs_Recurrent_main['trainable'] = True # Default: True\n",
      "kwargs_Recurrent_main['width'] = None # Default: None\n",
      "kwargs_Recurrent_main['zero_model'] = None # Default: None\n",
      "\n"
     ]
    },
    {
     "ename": "LogException",
     "evalue": "Exception encountered when calling layer 'VanillaDeepHedging' (type VanillaDeepHedgingGym).\n\n*** LogException: Error closing config 'kwargs_Recurrent_main.config': the following config arguments were not read: ['depth', 'activation']\n\nSummary of all variables read from this object:\nkwargs_Recurrent_main['actviation'] = None # Default: None\nkwargs_Recurrent_main['allow_no_features'] = True # Default: True\nkwargs_Recurrent_main['config'] = config.gym.agent{'network': {'depth': 3, 'activation': 'softplus', '_childen': {'_childen': {}}}, '_childen': {}} # Default: None\nkwargs_Recurrent_main['def_activation'] = relu # Default: relu\nkwargs_Recurrent_main['def_depth'] = 3 # Default: 3\nkwargs_Recurrent_main['def_features'] = ['price', 'time_left', 'delta'] # Default: []\nkwargs_Recurrent_main['def_final_act'] = linear # Default: linear\nkwargs_Recurrent_main['def_recurrence'] = 5 # Default: 5\nkwargs_Recurrent_main['def_regression'] = False # Default: False\nkwargs_Recurrent_main['def_width'] = 50 # Default: 50\nkwargs_Recurrent_main['def_zero_model'] = True # Default: True\nkwargs_Recurrent_main['depth'] = None # Default: None\nkwargs_Recurrent_main['dtype'] = float32 # Default: <dtype: 'float32'>\nkwargs_Recurrent_main['features'] = None # Default: None\nkwargs_Recurrent_main['final_act'] = None # Default: None\nkwargs_Recurrent_main['name'] = main_agent # Default: None\nkwargs_Recurrent_main['recurrence'] = None # Default: None\nkwargs_Recurrent_main['regression'] = None # Default: None\nkwargs_Recurrent_main['required_features'] = [] # Default: []\nkwargs_Recurrent_main['trainable'] = True # Default: True\nkwargs_Recurrent_main['width'] = None # Default: None\nkwargs_Recurrent_main['zero_model'] = None # Default: None\n\n\nCall arguments received by layer 'VanillaDeepHedging' (type VanillaDeepHedgingGym):\n  • data={'features': {'per_step': {'cost': 'tf.Tensor(shape=(10000, 20, 1), dtype=float32)', 'price': 'tf.Tensor(shape=(10000, 20), dtype=float32)', 'ubnd_a': 'tf.Tensor(shape=(10000, 20, 1), dtype=float32)', 'lbnd_a': 'tf.Tensor(shape=(10000, 20, 1), dtype=float32)', 'time_left': 'tf.Tensor(shape=(10000, 20), dtype=float32)', 'sqrt_time_left': 'tf.Tensor(shape=(10000, 20), dtype=float32)', 'spot': 'tf.Tensor(shape=(10000, 20), dtype=float32)', 'ivol': 'tf.Tensor(shape=(10000, 20), dtype=float32)'}, 'per_path': {}}, 'market': {'hedges': 'tf.Tensor(shape=(10000, 20, 1), dtype=float32)', 'cost': 'tf.Tensor(shape=(10000, 20, 1), dtype=float32)', 'ubnd_a': 'tf.Tensor(shape=(10000, 20, 1), dtype=float32)', 'lbnd_a': 'tf.Tensor(shape=(10000, 20, 1), dtype=float32)', 'payoff': 'tf.Tensor(shape=(10000,), dtype=float32)'}}\n  • training=False",
     "output_type": "error",
     "traceback": [
      "\u001b[1;31m---------------------------------------------------------------------------\u001b[0m",
      "\u001b[1;31mLogException\u001b[0m                              Traceback (most recent call last)",
      "Cell \u001b[1;32mIn[2], line 36\u001b[0m\n\u001b[0;32m     33\u001b[0m val_world  \u001b[38;5;241m=\u001b[39m world\u001b[38;5;241m.\u001b[39mclone(samples\u001b[38;5;241m=\u001b[39mworld\u001b[38;5;241m.\u001b[39mnSamples\u001b[38;5;241m/\u001b[39m\u001b[38;5;241m/\u001b[39m\u001b[38;5;241m10\u001b[39m)\n\u001b[0;32m     35\u001b[0m \u001b[38;5;66;03m# create training environment\u001b[39;00m\n\u001b[1;32m---> 36\u001b[0m \u001b[43mtrain\u001b[49m\u001b[43m(\u001b[49m\u001b[43m \u001b[49m\u001b[43mworld\u001b[49m\u001b[38;5;241;43m=\u001b[39;49m\u001b[43mworld\u001b[49m\u001b[43m,\u001b[49m\u001b[43m \u001b[49m\u001b[43mval_world\u001b[49m\u001b[38;5;241;43m=\u001b[39;49m\u001b[43mval_world\u001b[49m\u001b[43m,\u001b[49m\u001b[43m \u001b[49m\u001b[43mconfig\u001b[49m\u001b[38;5;241;43m=\u001b[39;49m\u001b[43mconfig\u001b[49m\u001b[43m \u001b[49m\u001b[43m)\u001b[49m\n\u001b[0;32m     37\u001b[0m r \u001b[38;5;241m=\u001b[39m gym(world\u001b[38;5;241m.\u001b[39mtf_data)\n\u001b[0;32m     38\u001b[0m \u001b[38;5;28mprint\u001b[39m(\u001b[38;5;124m\"\u001b[39m\u001b[38;5;124mKeys of the dictionary returned by the gym: \u001b[39m\u001b[38;5;124m\"\u001b[39m, r\u001b[38;5;241m.\u001b[39mkeys())\n",
      "File \u001b[1;32m~\\iCloudDrive\\Python3\\deephedging\\v4\\trainer.py:142\u001b[0m, in \u001b[0;36mtrain\u001b[1;34m(world, val_world, config, verbose)\u001b[0m\n\u001b[0;32m    139\u001b[0m env\u001b[38;5;241m.\u001b[39mtrn\u001b[38;5;241m.\u001b[39mworld \u001b[38;5;241m=\u001b[39m world\n\u001b[0;32m    140\u001b[0m env\u001b[38;5;241m.\u001b[39mval\u001b[38;5;241m.\u001b[39mworld \u001b[38;5;241m=\u001b[39m val_world\n\u001b[1;32m--> 142\u001b[0m r \u001b[38;5;241m=\u001b[39m \u001b[43mcdx_train\u001b[49m\u001b[43m(\u001b[49m\u001b[43m \u001b[49m\u001b[43menvironment\u001b[49m\u001b[43m           \u001b[49m\u001b[38;5;241;43m=\u001b[39;49m\u001b[43m \u001b[49m\u001b[43menv\u001b[49m\u001b[43m,\u001b[49m\n\u001b[0;32m    143\u001b[0m \u001b[43m               \u001b[49m\u001b[43mcreate_progress\u001b[49m\u001b[43m       \u001b[49m\u001b[38;5;241;43m=\u001b[39;49m\u001b[43m \u001b[49m\u001b[43mTrainingProgressData\u001b[49m\u001b[43m,\u001b[49m\n\u001b[0;32m    144\u001b[0m \u001b[43m               \u001b[49m\u001b[43mconfig\u001b[49m\u001b[43m                \u001b[49m\u001b[38;5;241;43m=\u001b[39;49m\u001b[43m \u001b[49m\u001b[43mconfig\u001b[49m\u001b[38;5;241;43m.\u001b[39;49m\u001b[43mtrainer\u001b[49m\u001b[43m,\u001b[49m\n\u001b[0;32m    145\u001b[0m \u001b[43m               \u001b[49m\u001b[43mverbose\u001b[49m\u001b[43m               \u001b[49m\u001b[38;5;241;43m=\u001b[39;49m\u001b[43m \u001b[49m\u001b[43mverbose\u001b[49m\n\u001b[0;32m    146\u001b[0m \u001b[43m         \u001b[49m\u001b[43m)\u001b[49m\n\u001b[0;32m    148\u001b[0m \u001b[38;5;28;01mreturn\u001b[39;00m r\n",
      "File \u001b[1;32m~\\iCloudDrive\\Python3\\packages\\cdx_tf\\cdx_tf\\gym.py:1314\u001b[0m, in \u001b[0;36mtrain\u001b[1;34m(environment, create_progress, config, verbose, display_name, catch_exceptions, **create_environment)\u001b[0m\n\u001b[0;32m   1308\u001b[0m gym\u001b[38;5;241m.\u001b[39mcompile(    optimizer        \u001b[38;5;241m=\u001b[39m create_optimizer(config\u001b[38;5;241m.\u001b[39mtrain\u001b[38;5;241m.\u001b[39moptimizer),\n\u001b[0;32m   1309\u001b[0m                 loss             \u001b[38;5;241m=\u001b[39m { environment\u001b[38;5;241m.\u001b[39mloss_name : default_loss },\n\u001b[0;32m   1310\u001b[0m                 weighted_metrics \u001b[38;5;241m=\u001b[39m { environment\u001b[38;5;241m.\u001b[39mloss_name : default_loss },\n\u001b[0;32m   1311\u001b[0m                 run_eagerly      \u001b[38;5;241m=\u001b[39m run_eagerly)\n\u001b[0;32m   1312\u001b[0m environment\u001b[38;5;241m.\u001b[39mset_gym( gym, cached\u001b[38;5;241m=\u001b[39m\u001b[38;5;28;01mFalse\u001b[39;00m )\n\u001b[1;32m-> 1314\u001b[0m predicted_data0          \u001b[38;5;241m=\u001b[39m \u001b[43menvironment\u001b[49m\u001b[38;5;241;43m.\u001b[39;49m\u001b[43mpredict\u001b[49m\u001b[43m(\u001b[49m\u001b[43m)\u001b[49m\n\u001b[0;32m   1315\u001b[0m progress_data \u001b[38;5;241m=\u001b[39m create_progress( environment\u001b[38;5;241m=\u001b[39menvironment,\n\u001b[0;32m   1316\u001b[0m                                  predicted_data0\u001b[38;5;241m=\u001b[39mpredicted_data0,\n\u001b[0;32m   1317\u001b[0m                                  training_info\u001b[38;5;241m=\u001b[39mtraining_info,\n\u001b[0;32m   1318\u001b[0m                                  config\u001b[38;5;241m=\u001b[39mconfig\u001b[38;5;241m.\u001b[39mprogress )\n\u001b[0;32m   1319\u001b[0m verbose\u001b[38;5;241m.\u001b[39mreport(\u001b[38;5;241m1\u001b[39m, \u001b[38;5;124m\"\u001b[39m\u001b[38;5;132;01m%s\u001b[39;00m\u001b[38;5;124m: model generated. Preparing training for \u001b[39m\u001b[38;5;132;01m%ld\u001b[39;00m\u001b[38;5;124m epochs. Model has \u001b[39m\u001b[38;5;132;01m%ld\u001b[39;00m\u001b[38;5;124m trainable weights.\u001b[39m\u001b[38;5;124m\"\u001b[39m, display_name, progress_data\u001b[38;5;241m.\u001b[39mremaining_epochs, gym\u001b[38;5;241m.\u001b[39mnum_trainable_weights)\n",
      "File \u001b[1;32m~\\iCloudDrive\\Python3\\packages\\cdx_tf\\cdx_tf\\gym.py:476\u001b[0m, in \u001b[0;36mEnvironment.predict\u001b[1;34m(self)\u001b[0m\n\u001b[0;32m    474\u001b[0m pack               \u001b[38;5;241m=\u001b[39m PrettyDict()\n\u001b[0;32m    475\u001b[0m pack\u001b[38;5;241m.\u001b[39mtrn           \u001b[38;5;241m=\u001b[39m PrettyDict()\n\u001b[1;32m--> 476\u001b[0m pack\u001b[38;5;241m.\u001b[39mtrn\u001b[38;5;241m.\u001b[39mresults   \u001b[38;5;241m=\u001b[39m npCast( \u001b[38;5;28;43mself\u001b[39;49m\u001b[38;5;241;43m.\u001b[39;49m\u001b[43mgym\u001b[49m\u001b[43m(\u001b[49m\u001b[38;5;28;43mself\u001b[39;49m\u001b[38;5;241;43m.\u001b[39;49m\u001b[43mtrn\u001b[49m\u001b[38;5;241;43m.\u001b[39;49m\u001b[43mtf_data\u001b[49m\u001b[43m)\u001b[49m )\n\u001b[0;32m    477\u001b[0m _log\u001b[38;5;241m.\u001b[39mverify( \u001b[38;5;28misinstance\u001b[39m(pack\u001b[38;5;241m.\u001b[39mtrn\u001b[38;5;241m.\u001b[39mresults, np\u001b[38;5;241m.\u001b[39mndarray) \u001b[38;5;129;01mor\u001b[39;00m ( \u001b[38;5;28misinstance\u001b[39m(pack\u001b[38;5;241m.\u001b[39mtrn\u001b[38;5;241m.\u001b[39mresults, Mapping) \u001b[38;5;129;01mand\u001b[39;00m \u001b[38;5;28mself\u001b[39m\u001b[38;5;241m.\u001b[39mloss_name \u001b[38;5;129;01min\u001b[39;00m pack\u001b[38;5;241m.\u001b[39mtrn\u001b[38;5;241m.\u001b[39mresults), \u001b[38;5;124m\"\u001b[39m\u001b[38;5;124mThe data returned from the gym must either be the loss tensor, or be a dictionary with \u001b[39m\u001b[38;5;124m'\u001b[39m\u001b[38;5;132;01m%s\u001b[39;00m\u001b[38;5;124m'\u001b[39m\u001b[38;5;124m entry as specified by \u001b[39m\u001b[38;5;124m'\u001b[39m\u001b[38;5;132;01m%s\u001b[39;00m\u001b[38;5;124m.LOSS_NAME\u001b[39m\u001b[38;5;124m'\u001b[39m\u001b[38;5;124m. Model returned data type \u001b[39m\u001b[38;5;132;01m%s\u001b[39;00m\u001b[38;5;124m\"\u001b[39m, \u001b[38;5;28mself\u001b[39m\u001b[38;5;241m.\u001b[39mloss_name, \u001b[38;5;28mtype\u001b[39m(\u001b[38;5;28mself\u001b[39m\u001b[38;5;241m.\u001b[39mgym)\u001b[38;5;241m.\u001b[39m\u001b[38;5;18m__name__\u001b[39m, \u001b[38;5;28mstr\u001b[39m(\u001b[38;5;28mtype\u001b[39m(pack\u001b[38;5;241m.\u001b[39mtrn\u001b[38;5;241m.\u001b[39mresults)))\n\u001b[0;32m    479\u001b[0m pack\u001b[38;5;241m.\u001b[39mtrn\u001b[38;5;241m.\u001b[39mloss      \u001b[38;5;241m=\u001b[39m pack\u001b[38;5;241m.\u001b[39mtrn\u001b[38;5;241m.\u001b[39mresults \u001b[38;5;28;01mif\u001b[39;00m \u001b[38;5;28misinstance\u001b[39m(pack\u001b[38;5;241m.\u001b[39mtrn\u001b[38;5;241m.\u001b[39mresults, np\u001b[38;5;241m.\u001b[39mndarray) \u001b[38;5;28;01melse\u001b[39;00m pack\u001b[38;5;241m.\u001b[39mtrn\u001b[38;5;241m.\u001b[39mresults[\u001b[38;5;28mself\u001b[39m\u001b[38;5;241m.\u001b[39mloss_name]\n",
      "File \u001b[1;32m~\\Anaconda3\\lib\\site-packages\\keras\\utils\\traceback_utils.py:70\u001b[0m, in \u001b[0;36mfilter_traceback.<locals>.error_handler\u001b[1;34m(*args, **kwargs)\u001b[0m\n\u001b[0;32m     67\u001b[0m     filtered_tb \u001b[38;5;241m=\u001b[39m _process_traceback_frames(e\u001b[38;5;241m.\u001b[39m__traceback__)\n\u001b[0;32m     68\u001b[0m     \u001b[38;5;66;03m# To get the full stack trace, call:\u001b[39;00m\n\u001b[0;32m     69\u001b[0m     \u001b[38;5;66;03m# `tf.debugging.disable_traceback_filtering()`\u001b[39;00m\n\u001b[1;32m---> 70\u001b[0m     \u001b[38;5;28;01mraise\u001b[39;00m e\u001b[38;5;241m.\u001b[39mwith_traceback(filtered_tb) \u001b[38;5;28;01mfrom\u001b[39;00m \u001b[38;5;28mNone\u001b[39m\n\u001b[0;32m     71\u001b[0m \u001b[38;5;28;01mfinally\u001b[39;00m:\n\u001b[0;32m     72\u001b[0m     \u001b[38;5;28;01mdel\u001b[39;00m filtered_tb\n",
      "File \u001b[1;32m~\\iCloudDrive\\Python3\\deephedging\\v4\\gym.py:208\u001b[0m, in \u001b[0;36mVanillaDeepHedgingGym.call\u001b[1;34m(self, data, training)\u001b[0m\n\u001b[0;32m    205\u001b[0m live_features\u001b[38;5;241m.\u001b[39mupdate( { f:features_per_step[f][:,t,:] \u001b[38;5;28;01mfor\u001b[39;00m f \u001b[38;5;129;01min\u001b[39;00m features_per_step})\n\u001b[0;32m    207\u001b[0m \u001b[38;5;66;03m# 2: action\u001b[39;00m\n\u001b[1;32m--> 208\u001b[0m action, state  \u001b[38;5;241m=\u001b[39m  \u001b[38;5;28;43mself\u001b[39;49m\u001b[38;5;241;43m.\u001b[39;49m\u001b[43magent\u001b[49m\u001b[43m(\u001b[49m\u001b[43m \u001b[49m\u001b[43mlive_features\u001b[49m\u001b[43m,\u001b[49m\u001b[43m \u001b[49m\u001b[43mstate\u001b[49m\u001b[38;5;241;43m=\u001b[39;49m\u001b[43mstate\u001b[49m\u001b[43m,\u001b[49m\u001b[43m \u001b[49m\u001b[43mtraining\u001b[49m\u001b[38;5;241;43m=\u001b[39;49m\u001b[43mtraining\u001b[49m\u001b[43m \u001b[49m\u001b[43m)\u001b[49m\n\u001b[0;32m    209\u001b[0m _log\u001b[38;5;241m.\u001b[39mverify( action\u001b[38;5;241m.\u001b[39mshape\u001b[38;5;241m.\u001b[39mas_list() \u001b[38;5;241m==\u001b[39m [nBatch, nInst], \u001b[38;5;124m\"\u001b[39m\u001b[38;5;124mError: action return by agent: expected shape \u001b[39m\u001b[38;5;132;01m%s\u001b[39;00m\u001b[38;5;124m, found \u001b[39m\u001b[38;5;132;01m%s\u001b[39;00m\u001b[38;5;124m\"\u001b[39m, [nBatch, nInst], action\u001b[38;5;241m.\u001b[39mshape\u001b[38;5;241m.\u001b[39mas_list() )\n\u001b[0;32m    210\u001b[0m action         \u001b[38;5;241m=\u001b[39m  \u001b[38;5;28mself\u001b[39m\u001b[38;5;241m.\u001b[39msoftclip( action, lbnd_a[:,t,:], ubnd_a[:,t,:] )\n",
      "File \u001b[1;32m~\\iCloudDrive\\Python3\\packages\\cdx_tf\\cdx_tf\\models.py:781\u001b[0m, in \u001b[0;36mRecurrentAgent.__call__\u001b[1;34m(self, features, state, **kwargs)\u001b[0m\n\u001b[0;32m    779\u001b[0m _log\u001b[38;5;241m.\u001b[39mverify( \u001b[38;5;129;01mnot\u001b[39;00m state \u001b[38;5;129;01mis\u001b[39;00m \u001b[38;5;28;01mNone\u001b[39;00m, \u001b[38;5;124m\"\u001b[39m\u001b[38;5;124mModel \u001b[39m\u001b[38;5;124m'\u001b[39m\u001b[38;5;132;01m%s\u001b[39;00m\u001b[38;5;124m'\u001b[39m\u001b[38;5;124m: \u001b[39m\u001b[38;5;124m'\u001b[39m\u001b[38;5;124mstate\u001b[39m\u001b[38;5;124m'\u001b[39m\u001b[38;5;124m cannot be \u001b[39m\u001b[38;5;124m'\u001b[39m\u001b[38;5;124mNone\u001b[39m\u001b[38;5;124m'\u001b[39m\u001b[38;5;124m. Use initial_state()\u001b[39m\u001b[38;5;124m\"\u001b[39m, name(\u001b[38;5;28mself\u001b[39m))\n\u001b[0;32m    780\u001b[0m _log\u001b[38;5;241m.\u001b[39mverify( \u001b[38;5;28mlen\u001b[39m(state\u001b[38;5;241m.\u001b[39mshape) \u001b[38;5;241m==\u001b[39m \u001b[38;5;241m2\u001b[39m \u001b[38;5;129;01mand\u001b[39;00m \u001b[38;5;28mint\u001b[39m(state\u001b[38;5;241m.\u001b[39mshape[\u001b[38;5;241m1\u001b[39m]) \u001b[38;5;241m==\u001b[39m \u001b[38;5;28mself\u001b[39m\u001b[38;5;241m.\u001b[39m_recurrence, \u001b[38;5;124m\"\u001b[39m\u001b[38;5;124mModel \u001b[39m\u001b[38;5;124m'\u001b[39m\u001b[38;5;132;01m%s\u001b[39;00m\u001b[38;5;124m'\u001b[39m\u001b[38;5;124m: state is expected to be of shape [None, \u001b[39m\u001b[38;5;132;01m%ld\u001b[39;00m\u001b[38;5;124m]. Found shape \u001b[39m\u001b[38;5;132;01m%s\u001b[39;00m\u001b[38;5;124m\"\u001b[39m, name(\u001b[38;5;28mself\u001b[39m), \u001b[38;5;28mself\u001b[39m\u001b[38;5;241m.\u001b[39m_recurrence, state\u001b[38;5;241m.\u001b[39mshape\u001b[38;5;241m.\u001b[39mas_list())\n\u001b[1;32m--> 781\u001b[0m result    \u001b[38;5;241m=\u001b[39m \u001b[38;5;28mself\u001b[39m\u001b[38;5;241m.\u001b[39m_main_agent( features, state\u001b[38;5;241m=\u001b[39mstate, \u001b[38;5;241m*\u001b[39m\u001b[38;5;241m*\u001b[39mkwargs )\n\u001b[0;32m    782\u001b[0m n         \u001b[38;5;241m=\u001b[39m \u001b[38;5;28mself\u001b[39m\u001b[38;5;241m.\u001b[39m_recurrence\n\u001b[0;32m    783\u001b[0m new_state \u001b[38;5;241m=\u001b[39m result[:,\u001b[38;5;241m0\u001b[39m\u001b[38;5;241m*\u001b[39mn:\u001b[38;5;241m1\u001b[39m\u001b[38;5;241m*\u001b[39mn]\n",
      "File \u001b[1;32m~\\iCloudDrive\\Python3\\packages\\cdx_tf\\cdx_tf\\models.py:556\u001b[0m, in \u001b[0;36mDenseAgent.__call__\u001b[1;34m(self, data, state, **kwargs)\u001b[0m\n\u001b[0;32m    554\u001b[0m \u001b[38;5;28;01melse\u001b[39;00m:\n\u001b[0;32m    555\u001b[0m     _log\u001b[38;5;241m.\u001b[39mverify( state \u001b[38;5;129;01mis\u001b[39;00m \u001b[38;5;28;01mNone\u001b[39;00m, \u001b[38;5;124m\"\u001b[39m\u001b[38;5;124m'\u001b[39m\u001b[38;5;124mstate\u001b[39m\u001b[38;5;124m'\u001b[39m\u001b[38;5;124m must be None, not \u001b[39m\u001b[38;5;124m'\u001b[39m\u001b[38;5;132;01m%s\u001b[39;00m\u001b[38;5;124m'\u001b[39m\u001b[38;5;124m\"\u001b[39m, \u001b[38;5;28mtype\u001b[39m(state)\u001b[38;5;241m.\u001b[39m\u001b[38;5;18m__name__\u001b[39m  )\n\u001b[1;32m--> 556\u001b[0m \u001b[38;5;28;01mreturn\u001b[39;00m tf\u001b[38;5;241m.\u001b[39mkeras\u001b[38;5;241m.\u001b[39mModel\u001b[38;5;241m.\u001b[39m\u001b[38;5;21m__call__\u001b[39m(\u001b[38;5;28mself\u001b[39m, \u001b[38;5;28mdict\u001b[39m( data\u001b[38;5;241m=\u001b[39mdata, state\u001b[38;5;241m=\u001b[39mstate ) \u001b[38;5;28;01mif\u001b[39;00m \u001b[38;5;129;01mnot\u001b[39;00m state \u001b[38;5;129;01mis\u001b[39;00m \u001b[38;5;28;01mNone\u001b[39;00m \u001b[38;5;28;01melse\u001b[39;00m \u001b[38;5;28mdict\u001b[39m(data\u001b[38;5;241m=\u001b[39mdata), \u001b[38;5;241m*\u001b[39m\u001b[38;5;241m*\u001b[39mkwargs )\n",
      "File \u001b[1;32m~\\iCloudDrive\\Python3\\packages\\cdx_tf\\cdx_tf\\models.py:498\u001b[0m, in \u001b[0;36mDenseAgent.build\u001b[1;34m(self, shapes_data_and_state)\u001b[0m\n\u001b[0;32m    495\u001b[0m     available \u001b[38;5;241m=\u001b[39m fmt_list(\u001b[38;5;28mself\u001b[39m\u001b[38;5;241m.\u001b[39m_available_features, \u001b[38;5;124m\"\u001b[39m\u001b[38;5;124m(none)\u001b[39m\u001b[38;5;124m\"\u001b[39m)\n\u001b[0;32m    496\u001b[0m     _log\u001b[38;5;241m.\u001b[39mthrow(\u001b[38;5;124m\"\u001b[39m\u001b[38;5;124mCould not extract the following features: \u001b[39m\u001b[38;5;132;01m%s\u001b[39;00m\u001b[38;5;124m. Available features are: \u001b[39m\u001b[38;5;132;01m%s\u001b[39;00m\u001b[38;5;124m\"\u001b[39m, missing, available)\n\u001b[1;32m--> 498\u001b[0m \u001b[38;5;28mself\u001b[39m\u001b[38;5;241m.\u001b[39m_model \u001b[38;5;241m=\u001b[39m \u001b[43mdense_model\u001b[49m\u001b[43m(\u001b[49m\n\u001b[0;32m    499\u001b[0m \u001b[43m        \u001b[49m\u001b[43mnInput\u001b[49m\u001b[43m      \u001b[49m\u001b[38;5;241;43m=\u001b[39;49m\u001b[43m \u001b[49m\u001b[38;5;28;43mself\u001b[39;49m\u001b[38;5;241;43m.\u001b[39;49m\u001b[43m_size_features\u001b[49m\u001b[43m \u001b[49m\u001b[38;5;241;43m+\u001b[39;49m\u001b[43m \u001b[49m\u001b[38;5;28;43mself\u001b[39;49m\u001b[38;5;241;43m.\u001b[39;49m\u001b[43m_state_size\u001b[49m\u001b[43m,\u001b[49m\n\u001b[0;32m    500\u001b[0m \u001b[43m        \u001b[49m\u001b[43mnOutput\u001b[49m\u001b[43m     \u001b[49m\u001b[38;5;241;43m=\u001b[39;49m\u001b[43m \u001b[49m\u001b[38;5;28;43mself\u001b[39;49m\u001b[38;5;241;43m.\u001b[39;49m\u001b[43m_nOutput\u001b[49m\u001b[43m,\u001b[49m\n\u001b[0;32m    501\u001b[0m \u001b[43m        \u001b[49m\u001b[43mkwargs_cfg\u001b[49m\u001b[43m  \u001b[49m\u001b[38;5;241;43m=\u001b[39;49m\u001b[43m \u001b[49m\u001b[38;5;28;43mself\u001b[39;49m\u001b[38;5;241;43m.\u001b[39;49m\u001b[43m_kwargs\u001b[49m\n\u001b[0;32m    502\u001b[0m \u001b[43m        \u001b[49m\u001b[43m)\u001b[49m\n",
      "File \u001b[1;32m~\\iCloudDrive\\Python3\\packages\\cdx_tf\\cdx_tf\\models.py:327\u001b[0m, in \u001b[0;36mdense_model\u001b[1;34m(nInput, nOutput, kwargs_cfg, **kwargs)\u001b[0m\n\u001b[0;32m    324\u001b[0m def_zero_model  \u001b[38;5;241m=\u001b[39m kwargs(\u001b[38;5;124m\"\u001b[39m\u001b[38;5;124mdef_zero_model\u001b[39m\u001b[38;5;124m\"\u001b[39m, \u001b[38;5;28;01mTrue\u001b[39;00m, \u001b[38;5;28mbool\u001b[39m)\n\u001b[0;32m    325\u001b[0m def_regression  \u001b[38;5;241m=\u001b[39m kwargs(\u001b[38;5;124m\"\u001b[39m\u001b[38;5;124mdef_regression\u001b[39m\u001b[38;5;124m\"\u001b[39m, \u001b[38;5;28;01mFalse\u001b[39;00m, \u001b[38;5;28mbool\u001b[39m)\n\u001b[1;32m--> 327\u001b[0m \u001b[43mkwargs\u001b[49m\u001b[38;5;241;43m.\u001b[39;49m\u001b[43mdone\u001b[49m\u001b[43m(\u001b[49m\u001b[43m)\u001b[49m \u001b[38;5;66;03m# catch developer typos\u001b[39;00m\n\u001b[0;32m    329\u001b[0m width      \u001b[38;5;241m=\u001b[39m config(\u001b[38;5;124m\"\u001b[39m\u001b[38;5;124mwidth\u001b[39m\u001b[38;5;124m\"\u001b[39m, def_width, Int\u001b[38;5;241m>\u001b[39m\u001b[38;5;241m0\u001b[39m, \u001b[38;5;124m\"\u001b[39m\u001b[38;5;124mWidth\u001b[39m\u001b[38;5;124m\"\u001b[39m) \u001b[38;5;28;01mif\u001b[39;00m width \u001b[38;5;129;01mis\u001b[39;00m \u001b[38;5;28;01mNone\u001b[39;00m \u001b[38;5;28;01melse\u001b[39;00m width\n\u001b[0;32m    330\u001b[0m depth      \u001b[38;5;241m=\u001b[39m config(\u001b[38;5;124m\"\u001b[39m\u001b[38;5;124mdepth\u001b[39m\u001b[38;5;124m\"\u001b[39m, def_depth, Int\u001b[38;5;241m>\u001b[39m\u001b[38;5;241m=\u001b[39m\u001b[38;5;241m0\u001b[39m, \u001b[38;5;124m\"\u001b[39m\u001b[38;5;124mDepth\u001b[39m\u001b[38;5;124m\"\u001b[39m) \u001b[38;5;28;01mif\u001b[39;00m depth \u001b[38;5;129;01mis\u001b[39;00m \u001b[38;5;28;01mNone\u001b[39;00m \u001b[38;5;28;01melse\u001b[39;00m depth\n",
      "File \u001b[1;32m~\\Anaconda3\\lib\\site-packages\\cdxbasics\\config.py:544\u001b[0m, in \u001b[0;36mConfig.done\u001b[1;34m(self, include_children, mark_done)\u001b[0m\n\u001b[0;32m    542\u001b[0m \u001b[38;5;28;01mif\u001b[39;00m include_children:\n\u001b[0;32m    543\u001b[0m     \u001b[38;5;28;01mfor\u001b[39;00m config \u001b[38;5;129;01min\u001b[39;00m \u001b[38;5;28mself\u001b[39m\u001b[38;5;241m.\u001b[39m_children:\n\u001b[1;32m--> 544\u001b[0m         \u001b[38;5;28;43mself\u001b[39;49m\u001b[38;5;241;43m.\u001b[39;49m\u001b[43m_children\u001b[49m\u001b[43m[\u001b[49m\u001b[43mconfig\u001b[49m\u001b[43m]\u001b[49m\u001b[38;5;241;43m.\u001b[39;49m\u001b[43mdone\u001b[49m\u001b[43m(\u001b[49m\u001b[43minclude_children\u001b[49m\u001b[38;5;241;43m=\u001b[39;49m\u001b[43minclude_children\u001b[49m\u001b[43m,\u001b[49m\u001b[43mmark_done\u001b[49m\u001b[38;5;241;43m=\u001b[39;49m\u001b[38;5;28;43;01mFalse\u001b[39;49;00m\u001b[43m)\u001b[49m\n\u001b[0;32m    545\u001b[0m \u001b[38;5;28;01mif\u001b[39;00m mark_done:\n\u001b[0;32m    546\u001b[0m     \u001b[38;5;28mself\u001b[39m\u001b[38;5;241m.\u001b[39mmark_done(include_children\u001b[38;5;241m=\u001b[39minclude_children)\n",
      "File \u001b[1;32m~\\Anaconda3\\lib\\site-packages\\cdxbasics\\config.py:538\u001b[0m, in \u001b[0;36mConfig.done\u001b[1;34m(self, include_children, mark_done)\u001b[0m\n\u001b[0;32m    536\u001b[0m rest   \u001b[38;5;241m=\u001b[39m inputs \u001b[38;5;241m-\u001b[39m \u001b[38;5;28mself\u001b[39m\u001b[38;5;241m.\u001b[39m_done\n\u001b[0;32m    537\u001b[0m \u001b[38;5;28;01mif\u001b[39;00m \u001b[38;5;28mlen\u001b[39m(rest) \u001b[38;5;241m>\u001b[39m \u001b[38;5;241m0\u001b[39m:\n\u001b[1;32m--> 538\u001b[0m     \u001b[43m_log\u001b[49m\u001b[38;5;241;43m.\u001b[39;49m\u001b[43mverify\u001b[49m\u001b[43m(\u001b[49m\u001b[43m \u001b[49m\u001b[38;5;28;43;01mFalse\u001b[39;49;00m\u001b[43m,\u001b[49m\u001b[43m \u001b[49m\u001b[38;5;124;43m\"\u001b[39;49m\u001b[38;5;124;43mError closing config \u001b[39;49m\u001b[38;5;124;43m'\u001b[39;49m\u001b[38;5;132;43;01m%s\u001b[39;49;00m\u001b[38;5;124;43m'\u001b[39;49m\u001b[38;5;124;43m: the following config arguments were not read: \u001b[39;49m\u001b[38;5;132;43;01m%s\u001b[39;49;00m\u001b[38;5;130;43;01m\\n\u001b[39;49;00m\u001b[38;5;130;43;01m\\n\u001b[39;49;00m\u001b[38;5;124;43m\"\u001b[39;49m\u001b[43m\\\u001b[49m\n\u001b[0;32m    539\u001b[0m \u001b[43m                        \u001b[49m\u001b[38;5;124;43m\"\u001b[39;49m\u001b[38;5;124;43mSummary of all variables read from this object:\u001b[39;49m\u001b[38;5;130;43;01m\\n\u001b[39;49;00m\u001b[38;5;132;43;01m%s\u001b[39;49;00m\u001b[38;5;124;43m\"\u001b[39;49m\u001b[43m,\u001b[49m\u001b[43m \u001b[49m\u001b[43m\\\u001b[49m\n\u001b[0;32m    540\u001b[0m \u001b[43m                                \u001b[49m\u001b[38;5;28;43mself\u001b[39;49m\u001b[38;5;241;43m.\u001b[39;49m\u001b[43m_name\u001b[49m\u001b[43m,\u001b[49m\u001b[43m \u001b[49m\u001b[38;5;28;43mlist\u001b[39;49m\u001b[43m(\u001b[49m\u001b[43mrest\u001b[49m\u001b[43m)\u001b[49m\u001b[43m,\u001b[49m\u001b[43m \u001b[49m\u001b[43m\\\u001b[49m\n\u001b[0;32m    541\u001b[0m \u001b[43m                                \u001b[49m\u001b[38;5;28;43mself\u001b[39;49m\u001b[38;5;241;43m.\u001b[39;49m\u001b[43musage_report\u001b[49m\u001b[43m(\u001b[49m\u001b[43mfilter_path\u001b[49m\u001b[38;5;241;43m=\u001b[39;49m\u001b[38;5;28;43mself\u001b[39;49m\u001b[38;5;241;43m.\u001b[39;49m\u001b[43m_name\u001b[49m\u001b[43m \u001b[49m\u001b[43m)\u001b[49m\u001b[43m \u001b[49m\u001b[43m)\u001b[49m\n\u001b[0;32m    542\u001b[0m \u001b[38;5;28;01mif\u001b[39;00m include_children:\n\u001b[0;32m    543\u001b[0m     \u001b[38;5;28;01mfor\u001b[39;00m config \u001b[38;5;129;01min\u001b[39;00m \u001b[38;5;28mself\u001b[39m\u001b[38;5;241m.\u001b[39m_children:\n",
      "File \u001b[1;32m~\\Anaconda3\\lib\\site-packages\\cdxbasics\\logger.py:186\u001b[0m, in \u001b[0;36mLogger.verify\u001b[1;34m(self, cond, text, *args, **kwargs)\u001b[0m\n\u001b[0;32m    180\u001b[0m \u001b[38;5;124;03m\"\"\"\u001b[39;00m\n\u001b[0;32m    181\u001b[0m \u001b[38;5;124;03mVerifies 'cond'. Raises an exception if 'cond' is not met with the specified text.\u001b[39;00m\n\u001b[0;32m    182\u001b[0m \u001b[38;5;124;03mUsage:\u001b[39;00m\n\u001b[0;32m    183\u001b[0m \u001b[38;5;124;03m    _log.verify( i>0, \"i must be positive, found %d\", i)\u001b[39;00m\n\u001b[0;32m    184\u001b[0m \u001b[38;5;124;03m\"\"\"\u001b[39;00m\n\u001b[0;32m    185\u001b[0m \u001b[38;5;28;01mif\u001b[39;00m \u001b[38;5;129;01mnot\u001b[39;00m cond:\n\u001b[1;32m--> 186\u001b[0m     \u001b[38;5;28mself\u001b[39m\u001b[38;5;241m.\u001b[39mthrow(text,\u001b[38;5;241m*\u001b[39margs,\u001b[38;5;241m*\u001b[39m\u001b[38;5;241m*\u001b[39mkwargs)\n",
      "File \u001b[1;32m~\\Anaconda3\\lib\\site-packages\\cdxbasics\\logger.py:163\u001b[0m, in \u001b[0;36mLogger.throw\u001b[1;34m(self, text, *args, **kwargs)\u001b[0m\n\u001b[0;32m    161\u001b[0m \u001b[38;5;28;01mdef\u001b[39;00m \u001b[38;5;21mthrow\u001b[39m( \u001b[38;5;28mself\u001b[39m, text, \u001b[38;5;241m*\u001b[39margs, \u001b[38;5;241m*\u001b[39m\u001b[38;5;241m*\u001b[39mkwargs ):     \n\u001b[0;32m    162\u001b[0m     \u001b[38;5;124;03m\"\"\" Raise an exception \"\"\"\u001b[39;00m\n\u001b[1;32m--> 163\u001b[0m     \u001b[38;5;28;01mraise\u001b[39;00m \u001b[38;5;28mself\u001b[39m\u001b[38;5;241m.\u001b[39mExceptn(text,\u001b[38;5;241m*\u001b[39margs,\u001b[38;5;241m*\u001b[39m\u001b[38;5;241m*\u001b[39mkwargs)\n",
      "\u001b[1;31mLogException\u001b[0m: Exception encountered when calling layer 'VanillaDeepHedging' (type VanillaDeepHedgingGym).\n\n*** LogException: Error closing config 'kwargs_Recurrent_main.config': the following config arguments were not read: ['depth', 'activation']\n\nSummary of all variables read from this object:\nkwargs_Recurrent_main['actviation'] = None # Default: None\nkwargs_Recurrent_main['allow_no_features'] = True # Default: True\nkwargs_Recurrent_main['config'] = config.gym.agent{'network': {'depth': 3, 'activation': 'softplus', '_childen': {'_childen': {}}}, '_childen': {}} # Default: None\nkwargs_Recurrent_main['def_activation'] = relu # Default: relu\nkwargs_Recurrent_main['def_depth'] = 3 # Default: 3\nkwargs_Recurrent_main['def_features'] = ['price', 'time_left', 'delta'] # Default: []\nkwargs_Recurrent_main['def_final_act'] = linear # Default: linear\nkwargs_Recurrent_main['def_recurrence'] = 5 # Default: 5\nkwargs_Recurrent_main['def_regression'] = False # Default: False\nkwargs_Recurrent_main['def_width'] = 50 # Default: 50\nkwargs_Recurrent_main['def_zero_model'] = True # Default: True\nkwargs_Recurrent_main['depth'] = None # Default: None\nkwargs_Recurrent_main['dtype'] = float32 # Default: <dtype: 'float32'>\nkwargs_Recurrent_main['features'] = None # Default: None\nkwargs_Recurrent_main['final_act'] = None # Default: None\nkwargs_Recurrent_main['name'] = main_agent # Default: None\nkwargs_Recurrent_main['recurrence'] = None # Default: None\nkwargs_Recurrent_main['regression'] = None # Default: None\nkwargs_Recurrent_main['required_features'] = [] # Default: []\nkwargs_Recurrent_main['trainable'] = True # Default: True\nkwargs_Recurrent_main['width'] = None # Default: None\nkwargs_Recurrent_main['zero_model'] = None # Default: None\n\n\nCall arguments received by layer 'VanillaDeepHedging' (type VanillaDeepHedgingGym):\n  • data={'features': {'per_step': {'cost': 'tf.Tensor(shape=(10000, 20, 1), dtype=float32)', 'price': 'tf.Tensor(shape=(10000, 20), dtype=float32)', 'ubnd_a': 'tf.Tensor(shape=(10000, 20, 1), dtype=float32)', 'lbnd_a': 'tf.Tensor(shape=(10000, 20, 1), dtype=float32)', 'time_left': 'tf.Tensor(shape=(10000, 20), dtype=float32)', 'sqrt_time_left': 'tf.Tensor(shape=(10000, 20), dtype=float32)', 'spot': 'tf.Tensor(shape=(10000, 20), dtype=float32)', 'ivol': 'tf.Tensor(shape=(10000, 20), dtype=float32)'}, 'per_path': {}}, 'market': {'hedges': 'tf.Tensor(shape=(10000, 20, 1), dtype=float32)', 'cost': 'tf.Tensor(shape=(10000, 20, 1), dtype=float32)', 'ubnd_a': 'tf.Tensor(shape=(10000, 20, 1), dtype=float32)', 'lbnd_a': 'tf.Tensor(shape=(10000, 20, 1), dtype=float32)', 'payoff': 'tf.Tensor(shape=(10000,), dtype=float32)'}}\n  • training=False"
     ]
    }
   ],
   "source": [
    "print(\"Deep Hedging AI says hello ... \", end='')\n",
    "from cdxbasics.config import Config\n",
    "from deephedging.v4.trainer import train\n",
    "from deephedging.v4.gym import VanillaDeepHedgingGym\n",
    "from deephedging.v4.world import SimpleWorld_Spot_ATM\n",
    "\n",
    "from IPython.display import display, Markdown\n",
    "\n",
    "# see print of the config below for numerous options\n",
    "config = Config()\n",
    "# world\n",
    "config.world.samples = 10000\n",
    "config.world.steps = 20\n",
    "config.world.black_scholes = True\n",
    "# gym\n",
    "config.gym.objective.utility = \"cvar\"\n",
    "config.gym.objective.lmbda = 1.\n",
    "config.gym.agent.network.depth = 3\n",
    "config.gym.agent.network.activation = \"softplus\"\n",
    "# trainer\n",
    "config.trainer.train.optimizer.name = \"adam\"\n",
    "config.trainer.train.batch_size = None\n",
    "config.trainer.train.epochs = 50\n",
    "config.trainer.caching.mode = \"on\"\n",
    "config.trainer.visual.epoch_refresh = 5\n",
    "config.trainer.visual.confidence_pcnt_lo = 0.25\n",
    "config.trainer.visual.confidence_pcnt_hi = 0.75\n",
    "\n",
    "display(Markdown(\"## Deep Hedging in a Black \\& Scholes World\"))\n",
    "\n",
    "# create world\n",
    "world  = SimpleWorld_Spot_ATM( config.world )\n",
    "val_world  = world.clone(samples=world.nSamples//10)\n",
    "\n",
    "# create training environment\n",
    "train( world=world, val_world=val_world, config=config )\n",
    "r = gym(world.tf_data)\n",
    "print(\"Keys of the dictionary returned by the gym: \", r.keys())\n",
    "\n",
    "print(\"=========================================\")\n",
    "print(\"Config usage report\")\n",
    "print(\"=========================================\")\n",
    "print( config.usage_report() )\n",
    "config.done()"
   ]
  },
  {
   "cell_type": "markdown",
   "id": "cbda7c65-00e3-4146-8497-814a3e9a461a",
   "metadata": {},
   "source": [
    "#### Comparison to Black & Scholes\n"
   ]
  },
  {
   "cell_type": "code",
   "execution_count": null,
   "id": "396f7aa0-5f73-4815-ab95-af92f1d14360",
   "metadata": {},
   "outputs": [],
   "source": [
    "import deephedging.plot_bs_hedge as plot_bs_hedge\n",
    "plot_bs_hedge.plot_blackscholes( world, gym, config )"
   ]
  },
  {
   "cell_type": "markdown",
   "id": "c67ad986-e289-4c11-a1d4-090b8a79cf80",
   "metadata": {},
   "source": [
    "## Stochastic Vol\n",
    "### Trading with two assets"
   ]
  },
  {
   "cell_type": "code",
   "execution_count": null,
   "id": "6567d868-ef99-490b-8aff-2f0b67db5203",
   "metadata": {},
   "outputs": [],
   "source": [
    "print(\"Deep Hedging AI says hello  ... \", end='')\n",
    "from cdxbasics.config import Config\n",
    "from deephedging.trainer import train\n",
    "from deephedging.gym import VanillaDeepHedgingGym\n",
    "from deephedging.world import SimpleWorld_Spot_ATM\n",
    "import tensorflow as tf\n",
    "\n",
    "from IPython.display import display, Markdown\n",
    "\n",
    "# see print of the config below for numerous options\n",
    "config = Config()\n",
    "# world\n",
    "config.world.samples = 10000\n",
    "config.world.steps = 20\n",
    "config.world.black_scholes = False\n",
    "# gym\n",
    "config.gym.objective.utility = \"cvar\"\n",
    "config.gym.objective.lmbda = 1.\n",
    "config.gym.agent.network.depth = 3\n",
    "config.gym.agent.network.activation = \"softplus\"\n",
    "# trainer\n",
    "config.trainer.train.optimizer.name = \"adam\"\n",
    "config.trainer.train.optimizer.learning_rate = 0.001\n",
    "config.trainer.train.optimizer.clipvalue = 1.\n",
    "config.trainer.train.optimizer.global_clipnorm = 1.\n",
    "config.trainer.train.batch_size = None\n",
    "config.trainer.train.epochs = 800\n",
    "config.trainer.caching.mode = \"on\"\n",
    "config.trainer.train.run_eagerly = None\n",
    "config.trainer.visual.epoch_refresh = 5\n",
    "config.trainer.visual.confidence_pcnt_lo = 0.25\n",
    "config.trainer.visual.confidence_pcnt_hi = 0.75\n",
    "\n",
    "display(Markdown(\"## Deep Hedging in a simple Stochastic Volatility World\"))\n",
    "\n",
    "# create world\n",
    "world  = SimpleWorld_Spot_ATM( config.world )\n",
    "val_world  = world.clone(samples=world.nSamples//10)\n",
    "\n",
    "# create training environment\n",
    "tf.debugging.enable_check_numerics()\n",
    "gym = VanillaDeepHedgingGym( config.gym )\n",
    "\n",
    "# create training environment\n",
    "train( gym=gym, world=world, val_world=val_world, config=config.trainer )\n",
    "r = gym(world.tf_data)\n",
    "print(\"Keys of the dictionary returned by the gym: \", r.keys())\n",
    "\n",
    "print(\"=========================================\")\n",
    "print(\"Config usage report\")\n",
    "print(\"=========================================\")\n",
    "print( config.usage_report() )\n",
    "config.done()"
   ]
  },
  {
   "cell_type": "code",
   "execution_count": null,
   "id": "0eba112b-167c-4752-bd16-3bb8ca56eafa",
   "metadata": {},
   "outputs": [],
   "source": []
  }
 ],
 "metadata": {
  "kernelspec": {
   "display_name": "Python 3",
   "language": "python",
   "name": "python3"
  },
  "language_info": {
   "codemirror_mode": {
    "name": "ipython",
    "version": 3
   },
   "file_extension": ".py",
   "mimetype": "text/x-python",
   "name": "python",
   "nbconvert_exporter": "python",
   "pygments_lexer": "ipython3",
   "version": "3.10.9"
  }
 },
 "nbformat": 4,
 "nbformat_minor": 5
}
