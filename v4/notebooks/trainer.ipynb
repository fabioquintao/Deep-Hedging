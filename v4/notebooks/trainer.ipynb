{
 "cells": [
  {
   "cell_type": "markdown",
   "id": "e9e9279e-55b6-407d-a439-8a7c007974c3",
   "metadata": {},
   "source": [
    "# Deep Hedging AI\n",
    "### Vanilla Deep Hedging engine reference implementation with dynamic training update.\n",
    "\n",
    "This is the main example notebook. It shows learning to hedge a vanilla call option (ATM by default), first in a Black & Scholes world with statistical drift, and secondly in a world where a second option can be traded.\n",
    "The examples are not intended to be overly realistic.\n",
    "\n",
    "In the Black & Scholes case we see that the hedge learned is _not_ the risk-neutral hedge. The notebook <tt>trainer-bs_nodrift.ipynb</tt> demonstrates that if the statistical drift is zero, and step size is sufficiently small (daily), then the Deep Hedging hedge approximates the risk-neutral hedge.\n",
    "\n",
    "### Hans Buehler, June 30 2022\n"
   ]
  },
  {
   "cell_type": "code",
   "execution_count": 1,
   "id": "2d4e96d5-7016-4d65-97f6-e95f21df85b0",
   "metadata": {},
   "outputs": [],
   "source": [
    "\"\"\" Slighly annoying: by default the SageMaker Python import directory does not include our git directory \"\"\"\n",
    "#!pip -q install cdxbasics \"tensorflow>=2.10\" \"tensorflow_probability>=0.14\"\n",
    "import os\n",
    "p = os.getcwd()\n",
    "dhn = \"/deephedging/\"\n",
    "i = p.find(dhn)\n",
    "if i!=-1:\n",
    "    p = p[:i]\n",
    "    import sys\n",
    "    if not p in sys.path:\n",
    "        sys.path.append(p)\n",
    "        print(\"Added python path %s\" % p)\n"
   ]
  },
  {
   "cell_type": "code",
   "execution_count": null,
   "id": "861ef34b-392f-410d-9798-072ad8499019",
   "metadata": {},
   "outputs": [
    {
     "name": "stdout",
     "output_type": "stream",
     "text": [
      "Deep Hedging AI says hello ... "
     ]
    },
    {
     "data": {
      "text/markdown": [
       "## Deep Hedging in a Black \\& Scholes World"
      ],
      "text/plain": [
       "<IPython.core.display.Markdown object>"
      ]
     },
     "metadata": {},
     "output_type": "display_data"
    },
    {
     "name": "stdout",
     "output_type": "stream",
     "text": [
      "00: Initializing training for VanillaDeepHedging\n",
      "01:   VanillaDeepHedging: model generated. Preparing training for 400 epochs. Model has 10369 trainable weights.\n",
      "02:     'VanillaDeepHedging is using a total of 10369 weights: 6111 for the main agent, 1506 for 5 initial states and delta, and 2752 weights for the two exp2@1 monetary utilities\n",
      "02:      Features available for the agent per time step:   action, cost, delta, ivol, lbnd_a, pnl, price, spot, sqrt_time_left, time_left and ubnd_a\n",
      "02:      Features used by the agent per time step:         delta, price and time_left\n",
      "02:      Features available for the initial agent:         cost, ivol, lbnd_a, price, spot, sqrt_time_left, time_left and ubnd_a\n",
      "02:      Features used by the initial agent:               price\n",
      "02:      Features available for the monetary utilities:    cost, ivol, lbnd_a, price, spot, sqrt_time_left, time_left and ubnd_a\n",
      "02:      Features used by the monetary utilities:          price\n",
      "02:     Number of time steps: 20\n",
      "02:     Training VanillaDeepHedging epoch 10/400 for 10.37K weights using 10000 samples, 1000 validation samples, batch size 32 | initial loss: 0.277827 (0.281405), current loss: 0.105546 (0.106472), best loss: 0.105546 (0.106472). Best epoch 10. Last cached epoch 10 | memory used: rss 558.6796875, vms 528.71875 | time elapsed 4:02; time per epoch 24s; estimated time remaining 2:37:27 | current time: 2023-04-23 18:33:04, estimated end time: 2023-04-23 18:33:28 "
     ]
    }
   ],
   "source": [
    "print(\"Deep Hedging AI says hello ... \", end='')\n",
    "from cdxbasics.config import Config\n",
    "from deephedging.v4.trainer import train\n",
    "from deephedging.v4.gym import VanillaDeepHedgingGym\n",
    "from deephedging.v4.world import SimpleWorld_Spot_ATM\n",
    "\n",
    "from IPython.display import display, Markdown\n",
    "\n",
    "# see print of the config below for numerous options\n",
    "config = Config()\n",
    "# world\n",
    "config.world.samples = 10000\n",
    "config.world.steps = 20\n",
    "config.world.black_scholes = True\n",
    "# gym\n",
    "config.gym.objective.utility = \"exp2\"\n",
    "config.gym.objective.lmbda = 1.\n",
    "config.gym.agent.depth = 3\n",
    "config.gym.agent.activation = \"softplus\"\n",
    "\n",
    "#config.gym.init_agent.features = []\n",
    "#config.gym.objective.features = []\n",
    "# trainer\n",
    "config.trainer.train.optimizer.name = \"adam\"\n",
    "config.trainer.train.batch_size = None\n",
    "config.trainer.train.epochs = 400\n",
    "config.trainer.caching.mode = \"on\"\n",
    "if False:\n",
    "    config.trainer.visual.epoch_refresh = 5\n",
    "    config.trainer.visual.confidence_pcnt_lo = 0.25\n",
    "    config.trainer.visual.confidence_pcnt_hi = 0.75\n",
    "\n",
    "display(Markdown(\"## Deep Hedging in a Black \\& Scholes World\"))\n",
    "\n",
    "# create world\n",
    "world  = SimpleWorld_Spot_ATM( config.world )\n",
    "val_world  = world.clone(samples=world.nSamples//10)\n",
    "\n",
    "# create training environment\n",
    "r = train( world=world, val_world=val_world, config=config )\n",
    "print(\"Keys of the dictionary returned by the gym: \", r.keys())\n",
    "\n",
    "print(\"=========================================\")\n",
    "print(\"Config usage report\")\n",
    "print(\"=========================================\")\n",
    "print( config.usage_report() )\n",
    "config.done()"
   ]
  },
  {
   "cell_type": "markdown",
   "id": "cbda7c65-00e3-4146-8497-814a3e9a461a",
   "metadata": {},
   "source": [
    "#### Comparison to Black & Scholes\n"
   ]
  },
  {
   "cell_type": "code",
   "execution_count": null,
   "id": "396f7aa0-5f73-4815-ab95-af92f1d14360",
   "metadata": {},
   "outputs": [],
   "source": [
    "import importlib as imp\n",
    "import packages.cdx_tf.cdx_tf.monetary_utility as monetary_utility\n",
    "imp.reload(monetary_utility)\n",
    "import deephedging.v4.plot_bs_hedge as plot_bs_hedge\n",
    "imp.reload(plot_bs_hedge)\n",
    "\n",
    "plot_bs_hedge.plot_blackscholes( world, r.gym, config )"
   ]
  },
  {
   "cell_type": "markdown",
   "id": "c67ad986-e289-4c11-a1d4-090b8a79cf80",
   "metadata": {},
   "source": [
    "## Stochastic Vol\n",
    "### Trading with two assets"
   ]
  },
  {
   "cell_type": "code",
   "execution_count": null,
   "id": "6567d868-ef99-490b-8aff-2f0b67db5203",
   "metadata": {},
   "outputs": [],
   "source": [
    "print(\"Deep Hedging AI says hello  ... \", end='')\n",
    "from cdxbasics.config import Config\n",
    "from deephedging.trainer import train\n",
    "from deephedging.gym import VanillaDeepHedgingGym\n",
    "from deephedging.world import SimpleWorld_Spot_ATM\n",
    "import tensorflow as tf\n",
    "\n",
    "from IPython.display import display, Markdown\n",
    "\n",
    "# see print of the config below for numerous options\n",
    "config = Config()\n",
    "# world\n",
    "config.world.samples = 10000\n",
    "config.world.steps = 20\n",
    "config.world.black_scholes = False\n",
    "# gym\n",
    "config.gym.objective.utility = \"cvar\"\n",
    "config.gym.objective.lmbda = 1.\n",
    "config.gym.agent.network.depth = 3\n",
    "config.gym.agent.network.activation = \"softplus\"\n",
    "# trainer\n",
    "config.trainer.train.optimizer.name = \"adam\"\n",
    "config.trainer.train.optimizer.learning_rate = 0.001\n",
    "config.trainer.train.optimizer.clipvalue = 1.\n",
    "config.trainer.train.optimizer.global_clipnorm = 1.\n",
    "config.trainer.train.batch_size = None\n",
    "config.trainer.train.epochs = 800\n",
    "config.trainer.caching.mode = \"on\"\n",
    "config.trainer.train.run_eagerly = None\n",
    "config.trainer.visual.epoch_refresh = 5\n",
    "config.trainer.visual.confidence_pcnt_lo = 0.25\n",
    "config.trainer.visual.confidence_pcnt_hi = 0.75\n",
    "\n",
    "display(Markdown(\"## Deep Hedging in a simple Stochastic Volatility World\"))\n",
    "\n",
    "# create world\n",
    "world  = SimpleWorld_Spot_ATM( config.world )\n",
    "val_world  = world.clone(samples=world.nSamples//10)\n",
    "\n",
    "# create training environment\n",
    "tf.debugging.enable_check_numerics()\n",
    "gym = VanillaDeepHedgingGym( config.gym )\n",
    "\n",
    "# create training environment\n",
    "train( gym=gym, world=world, val_world=val_world, config=config.trainer )\n",
    "r = gym(world.tf_data)\n",
    "print(\"Keys of the dictionary returned by the gym: \", r.keys())\n",
    "\n",
    "print(\"=========================================\")\n",
    "print(\"Config usage report\")\n",
    "print(\"=========================================\")\n",
    "print( config.usage_report() )\n",
    "config.done()"
   ]
  },
  {
   "cell_type": "code",
   "execution_count": null,
   "id": "0eba112b-167c-4752-bd16-3bb8ca56eafa",
   "metadata": {},
   "outputs": [],
   "source": []
  }
 ],
 "metadata": {
  "kernelspec": {
   "display_name": "Python 3",
   "language": "python",
   "name": "python3"
  },
  "language_info": {
   "codemirror_mode": {
    "name": "ipython",
    "version": 3
   },
   "file_extension": ".py",
   "mimetype": "text/x-python",
   "name": "python",
   "nbconvert_exporter": "python",
   "pygments_lexer": "ipython3",
   "version": "3.10.9"
  }
 },
 "nbformat": 4,
 "nbformat_minor": 5
}
